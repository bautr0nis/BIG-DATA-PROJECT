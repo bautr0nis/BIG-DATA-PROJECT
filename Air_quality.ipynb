{
 "cells": [
  {
   "cell_type": "markdown",
   "id": "6c4eb6b8-c8dd-4963-8592-cf5e2d25446d",
   "metadata": {},
   "source": [
    "## 1. Prepare Python environment"
   ]
  },
  {
   "cell_type": "code",
   "id": "a7f743be-6211-4854-8bb0-9f909c01018a",
   "metadata": {
    "ExecuteTime": {
     "end_time": "2024-12-11T17:02:35.521972Z",
     "start_time": "2024-12-11T17:02:22.619632Z"
    }
   },
   "source": [
    "# Install custom Python packages\n",
    "!pip3 install pyeucountrycodes --quiet\n",
    "!pip3 install calplot --quiet\n",
    "!pip3 install gradio --quiet"
   ],
   "outputs": [
    {
     "name": "stdout",
     "output_type": "stream",
     "text": [
      "\r\n",
      "\u001B[1m[\u001B[0m\u001B[34;49mnotice\u001B[0m\u001B[1;39;49m]\u001B[0m\u001B[39;49m A new release of pip is available: \u001B[0m\u001B[31;49m24.0\u001B[0m\u001B[39;49m -> \u001B[0m\u001B[32;49m24.3.1\u001B[0m\r\n",
      "\u001B[1m[\u001B[0m\u001B[34;49mnotice\u001B[0m\u001B[1;39;49m]\u001B[0m\u001B[39;49m To update, run: \u001B[0m\u001B[32;49mpip3 install --upgrade pip\u001B[0m\r\n",
      "\r\n",
      "\u001B[1m[\u001B[0m\u001B[34;49mnotice\u001B[0m\u001B[1;39;49m]\u001B[0m\u001B[39;49m A new release of pip is available: \u001B[0m\u001B[31;49m24.0\u001B[0m\u001B[39;49m -> \u001B[0m\u001B[32;49m24.3.1\u001B[0m\r\n",
      "\u001B[1m[\u001B[0m\u001B[34;49mnotice\u001B[0m\u001B[1;39;49m]\u001B[0m\u001B[39;49m To update, run: \u001B[0m\u001B[32;49mpip3 install --upgrade pip\u001B[0m\r\n",
      "\r\n",
      "\u001B[1m[\u001B[0m\u001B[34;49mnotice\u001B[0m\u001B[1;39;49m]\u001B[0m\u001B[39;49m A new release of pip is available: \u001B[0m\u001B[31;49m24.0\u001B[0m\u001B[39;49m -> \u001B[0m\u001B[32;49m24.3.1\u001B[0m\r\n",
      "\u001B[1m[\u001B[0m\u001B[34;49mnotice\u001B[0m\u001B[1;39;49m]\u001B[0m\u001B[39;49m To update, run: \u001B[0m\u001B[32;49mpip3 install --upgrade pip\u001B[0m\r\n"
     ]
    }
   ],
   "execution_count": 2
  },
  {
   "cell_type": "code",
   "id": "f7ec82b7-6a9f-46f2-bb84-c12b53837e55",
   "metadata": {
    "ExecuteTime": {
     "end_time": "2024-12-11T17:03:32.316052Z",
     "start_time": "2024-12-11T17:03:28.902062Z"
    }
   },
   "source": [
    "# Load required Python packages\n",
    "import os, re, requests, logging, calplot\n",
    "import pandas as pd\n",
    "import dask.dataframe as dd\n",
    "import multiprocessing as mp\n",
    "from dask.multiprocessing import get\n",
    "from dask.diagnostics import ProgressBar\n",
    "ProgressBar().register()\n",
    "from tqdm import tqdm\n",
    "from itertools import product\n",
    "from eu_country_codes import COUNTRY_CODES\n",
    "import gradio as gr\n",
    "import plotly.express as px"
   ],
   "outputs": [
    {
     "name": "stderr",
     "output_type": "stream",
     "text": [
      "/Library/Frameworks/Python.framework/Versions/3.12/lib/python3.12/site-packages/dask/dataframe/__init__.py:49: FutureWarning: \n",
      "Dask dataframe query planning is disabled because dask-expr is not installed.\n",
      "\n",
      "You can install it with `pip install dask[dataframe]` or `conda install dask`.\n",
      "This will raise in a future version.\n",
      "\n",
      "  warnings.warn(msg, FutureWarning)\n"
     ]
    }
   ],
   "execution_count": 3
  },
  {
   "cell_type": "markdown",
   "id": "16462eaf-438b-4210-9821-db54c393a633",
   "metadata": {},
   "source": [
    "## 2. Download data files"
   ]
  },
  {
   "cell_type": "code",
   "id": "890eabf2-2103-46c1-82a1-3c5795e0f31a",
   "metadata": {
    "ExecuteTime": {
     "end_time": "2024-12-11T17:03:35.729462Z",
     "start_time": "2024-12-11T17:03:35.724357Z"
    }
   },
   "source": [
    "# Function to download remote file to the disk\n",
    "def urlDownload(urlLink, showProgress = False):\n",
    "  with requests.get(urlLink, stream=True) as r:\n",
    "    fileSize = int(r.headers.get('Content-Length'))\n",
    "    fileName = r.headers.get('Content-Disposition').split(\"filename=\")[1]\n",
    "    if not os.path.exists(fileName) or os.path.getsize(fileName) != fileSize:\n",
    "      block_size = 1024\n",
    "      if showProgress:\n",
    "        print(f\"Downloading {fileName}\")\n",
    "        progress_bar = tqdm(total=fileSize, unit='iB', unit_scale=True)\n",
    "      with open(fileName, 'wb') as file:\n",
    "        for data in r.iter_content(block_size):\n",
    "          if showProgress:\n",
    "            progress_bar.update(len(data))\n",
    "          file.write(data)\n",
    "      if showProgress:\n",
    "        progress_bar.close()\n",
    "    return fileName"
   ],
   "outputs": [],
   "execution_count": 4
  },
  {
   "cell_type": "code",
   "id": "fdf5bf16-bae0-4627-a9fb-62074a84f0ee",
   "metadata": {
    "ExecuteTime": {
     "end_time": "2024-12-11T17:03:59.590816Z",
     "start_time": "2024-12-11T17:03:38.563487Z"
    }
   },
   "source": [
    "# Download the newest data\n",
    "urlLocation = 'https://aqicn.org/data-platform/covid19/report/39374-7694ec07/'\n",
    "csvFile = urlDownload(urlLocation, showProgress=True)\n",
    "csvFile"
   ],
   "outputs": [
    {
     "name": "stdout",
     "output_type": "stream",
     "text": [
      "Downloading waqi-covid19-airqualitydata-2024.csv\n"
     ]
    },
    {
     "name": "stderr",
     "output_type": "stream",
     "text": [
      "100%|██████████| 105M/105M [00:19<00:00, 5.30MiB/s] \n"
     ]
    },
    {
     "data": {
      "text/plain": [
       "'waqi-covid19-airqualitydata-2024.csv'"
      ]
     },
     "execution_count": 5,
     "metadata": {},
     "output_type": "execute_result"
    }
   ],
   "execution_count": 5
  },
  {
   "cell_type": "code",
   "id": "a4edb190-1575-4154-a4ec-3513bcc4d87f",
   "metadata": {
    "ExecuteTime": {
     "end_time": "2024-12-11T17:04:02.867186Z",
     "start_time": "2024-12-11T17:04:02.857426Z"
    }
   },
   "source": [
    "# Create lists of year and quarter names\n",
    "yNames = [str(i) for i in range(2019, 2024)]\n",
    "qNames = [\"Q\" + str(i) for i in range(1, 5)]\n",
    "\n",
    "# Create a data frame with the url locations and year/quarter combinations\n",
    "DF = pd.DataFrame(list(product(yNames, qNames)),columns=['yNames', 'qNames'])\n",
    "DF.insert(loc=0, column='urlLocation', value=urlLocation)\n",
    "\n",
    "# Combine url location and year/quarter combinations into a single column\n",
    "DF = pd.DataFrame({'urlLocations': DF.agg(''.join, axis=1)})\n",
    "DF"
   ],
   "outputs": [
    {
     "data": {
      "text/plain": [
       "                                         urlLocations\n",
       "0   https://aqicn.org/data-platform/covid19/report...\n",
       "1   https://aqicn.org/data-platform/covid19/report...\n",
       "2   https://aqicn.org/data-platform/covid19/report...\n",
       "3   https://aqicn.org/data-platform/covid19/report...\n",
       "4   https://aqicn.org/data-platform/covid19/report...\n",
       "5   https://aqicn.org/data-platform/covid19/report...\n",
       "6   https://aqicn.org/data-platform/covid19/report...\n",
       "7   https://aqicn.org/data-platform/covid19/report...\n",
       "8   https://aqicn.org/data-platform/covid19/report...\n",
       "9   https://aqicn.org/data-platform/covid19/report...\n",
       "10  https://aqicn.org/data-platform/covid19/report...\n",
       "11  https://aqicn.org/data-platform/covid19/report...\n",
       "12  https://aqicn.org/data-platform/covid19/report...\n",
       "13  https://aqicn.org/data-platform/covid19/report...\n",
       "14  https://aqicn.org/data-platform/covid19/report...\n",
       "15  https://aqicn.org/data-platform/covid19/report...\n",
       "16  https://aqicn.org/data-platform/covid19/report...\n",
       "17  https://aqicn.org/data-platform/covid19/report...\n",
       "18  https://aqicn.org/data-platform/covid19/report...\n",
       "19  https://aqicn.org/data-platform/covid19/report..."
      ],
      "text/html": [
       "<div>\n",
       "<style scoped>\n",
       "    .dataframe tbody tr th:only-of-type {\n",
       "        vertical-align: middle;\n",
       "    }\n",
       "\n",
       "    .dataframe tbody tr th {\n",
       "        vertical-align: top;\n",
       "    }\n",
       "\n",
       "    .dataframe thead th {\n",
       "        text-align: right;\n",
       "    }\n",
       "</style>\n",
       "<table border=\"1\" class=\"dataframe\">\n",
       "  <thead>\n",
       "    <tr style=\"text-align: right;\">\n",
       "      <th></th>\n",
       "      <th>urlLocations</th>\n",
       "    </tr>\n",
       "  </thead>\n",
       "  <tbody>\n",
       "    <tr>\n",
       "      <th>0</th>\n",
       "      <td>https://aqicn.org/data-platform/covid19/report...</td>\n",
       "    </tr>\n",
       "    <tr>\n",
       "      <th>1</th>\n",
       "      <td>https://aqicn.org/data-platform/covid19/report...</td>\n",
       "    </tr>\n",
       "    <tr>\n",
       "      <th>2</th>\n",
       "      <td>https://aqicn.org/data-platform/covid19/report...</td>\n",
       "    </tr>\n",
       "    <tr>\n",
       "      <th>3</th>\n",
       "      <td>https://aqicn.org/data-platform/covid19/report...</td>\n",
       "    </tr>\n",
       "    <tr>\n",
       "      <th>4</th>\n",
       "      <td>https://aqicn.org/data-platform/covid19/report...</td>\n",
       "    </tr>\n",
       "    <tr>\n",
       "      <th>5</th>\n",
       "      <td>https://aqicn.org/data-platform/covid19/report...</td>\n",
       "    </tr>\n",
       "    <tr>\n",
       "      <th>6</th>\n",
       "      <td>https://aqicn.org/data-platform/covid19/report...</td>\n",
       "    </tr>\n",
       "    <tr>\n",
       "      <th>7</th>\n",
       "      <td>https://aqicn.org/data-platform/covid19/report...</td>\n",
       "    </tr>\n",
       "    <tr>\n",
       "      <th>8</th>\n",
       "      <td>https://aqicn.org/data-platform/covid19/report...</td>\n",
       "    </tr>\n",
       "    <tr>\n",
       "      <th>9</th>\n",
       "      <td>https://aqicn.org/data-platform/covid19/report...</td>\n",
       "    </tr>\n",
       "    <tr>\n",
       "      <th>10</th>\n",
       "      <td>https://aqicn.org/data-platform/covid19/report...</td>\n",
       "    </tr>\n",
       "    <tr>\n",
       "      <th>11</th>\n",
       "      <td>https://aqicn.org/data-platform/covid19/report...</td>\n",
       "    </tr>\n",
       "    <tr>\n",
       "      <th>12</th>\n",
       "      <td>https://aqicn.org/data-platform/covid19/report...</td>\n",
       "    </tr>\n",
       "    <tr>\n",
       "      <th>13</th>\n",
       "      <td>https://aqicn.org/data-platform/covid19/report...</td>\n",
       "    </tr>\n",
       "    <tr>\n",
       "      <th>14</th>\n",
       "      <td>https://aqicn.org/data-platform/covid19/report...</td>\n",
       "    </tr>\n",
       "    <tr>\n",
       "      <th>15</th>\n",
       "      <td>https://aqicn.org/data-platform/covid19/report...</td>\n",
       "    </tr>\n",
       "    <tr>\n",
       "      <th>16</th>\n",
       "      <td>https://aqicn.org/data-platform/covid19/report...</td>\n",
       "    </tr>\n",
       "    <tr>\n",
       "      <th>17</th>\n",
       "      <td>https://aqicn.org/data-platform/covid19/report...</td>\n",
       "    </tr>\n",
       "    <tr>\n",
       "      <th>18</th>\n",
       "      <td>https://aqicn.org/data-platform/covid19/report...</td>\n",
       "    </tr>\n",
       "    <tr>\n",
       "      <th>19</th>\n",
       "      <td>https://aqicn.org/data-platform/covid19/report...</td>\n",
       "    </tr>\n",
       "  </tbody>\n",
       "</table>\n",
       "</div>"
      ]
     },
     "execution_count": 6,
     "metadata": {},
     "output_type": "execute_result"
    }
   ],
   "execution_count": 6
  },
  {
   "cell_type": "code",
   "id": "6076123e-58b7-4f4c-9d89-49853f93dd3f",
   "metadata": {
    "ExecuteTime": {
     "end_time": "2024-12-11T17:04:48.018874Z",
     "start_time": "2024-12-11T17:04:06.484790Z"
    }
   },
   "source": [
    "# Download legacy data (in parallel)\n",
    "DDF = dd.from_pandas(DF, npartitions=mp.cpu_count())\n",
    "csvFiles = DDF.apply(lambda x : urlDownload(x[0]), axis=1, meta=pd.Series(dtype=\"str\")).compute(scheduler='threads')"
   ],
   "outputs": [
    {
     "name": "stdout",
     "output_type": "stream",
     "text": [
      "[                                        ] | 0% Completed | 106.14 ms"
     ]
    },
    {
     "name": "stderr",
     "output_type": "stream",
     "text": [
      "/var/folders/sh/y7_11shj52j5ym8tns5r5r0h0000gn/T/ipykernel_96750/2709540422.py:3: FutureWarning: Series.__getitem__ treating keys as positions is deprecated. In a future version, integer keys will always be treated as labels (consistent with DataFrame behavior). To access a value by position, use `ser.iloc[pos]`\n",
      "  csvFiles = DDF.apply(lambda x : urlDownload(x[0]), axis=1, meta=pd.Series(dtype=\"str\")).compute(scheduler='threads')\n"
     ]
    },
    {
     "name": "stdout",
     "output_type": "stream",
     "text": [
      "[########################################] | 100% Completed | 41.52 s\n"
     ]
    }
   ],
   "execution_count": 7
  },
  {
   "cell_type": "markdown",
   "id": "e594e670-69cf-4940-a08c-06a44cbea4a8",
   "metadata": {},
   "source": [
    "## 3. Load and prepare data"
   ]
  },
  {
   "cell_type": "code",
   "id": "be0414f8-11ee-48ba-9565-41a71e9d2c3f",
   "metadata": {
    "ExecuteTime": {
     "end_time": "2024-12-11T17:04:58.095249Z",
     "start_time": "2024-12-11T17:04:57.498272Z"
    }
   },
   "source": [
    "# Define the columns to load\n",
    "meta_cols = ['Date', 'Country', 'City', 'Specie']\n",
    "main_column = 'median' # 'count', 'min', 'max', 'median', 'variance'\n",
    "selected_cols = meta_cols + [main_column]\n",
    "\n",
    "# Read the newest data file and skip the first 4 lines\n",
    "DF = pd.read_csv(csvFile, skiprows=4, usecols=selected_cols)\n",
    "\n",
    "# Leave EU data, rename main column to Value\n",
    "selectNL = DF['Country'] == 'NL'\n",
    "newTable = DF[selectNL].rename(columns={main_column: 'Value'})\n",
    "print(newTable)"
   ],
   "outputs": [
    {
     "name": "stdout",
     "output_type": "stream",
     "text": [
      "               Date Country       City     Specie  Value\n",
      "1345408  2024-02-17      NL    Utrecht  wind-gust    0.9\n",
      "1345409  2024-03-08      NL    Utrecht  wind-gust    3.3\n",
      "1345410  2024-05-28      NL    Utrecht  wind-gust    2.6\n",
      "1345411  2024-06-30      NL    Utrecht  wind-gust    2.0\n",
      "1345412  2024-01-27      NL    Utrecht  wind-gust    0.5\n",
      "...             ...     ...        ...        ...    ...\n",
      "1383189  2024-09-28      NL  The Hague       pm10   13.0\n",
      "1383190  2024-10-20      NL  The Hague       pm10   10.0\n",
      "1383191  2024-11-05      NL  The Hague       pm10   27.0\n",
      "1383192  2024-11-16      NL  The Hague       pm10   15.0\n",
      "1383193  2024-11-29      NL  The Hague       pm10   17.0\n",
      "\n",
      "[37786 rows x 5 columns]\n"
     ]
    }
   ],
   "execution_count": 8
  },
  {
   "cell_type": "code",
   "id": "701d7344-04b0-4cec-a33a-4c011c0a3ed0",
   "metadata": {
    "ExecuteTime": {
     "end_time": "2024-12-11T17:05:02.500283Z",
     "start_time": "2024-12-11T17:05:00.140439Z"
    }
   },
   "source": [
    "# Read legacy data files (in parallel)\n",
    "fileNamesQ = [f for f in os.listdir('.') if re.match(r'^.*Q\\d.csv$', f)]\n",
    "DF = dd.compute(dd.read_csv(fileNamesQ, skiprows=4, usecols=selected_cols))[0]\n",
    "selectNL = DF['Country'] == 'NL'\n",
    "oldTable = DF[selectNL].rename(columns={main_column: 'Value'})\n",
    "print(oldTable)"
   ],
   "outputs": [
    {
     "name": "stdout",
     "output_type": "stream",
     "text": [
      "[########################################] | 100% Completed | 1.96 sms\n",
      "              Date Country       City     Specie  Value\n",
      "99767   2021-04-23      NL    Utrecht   humidity   64.6\n",
      "99768   2021-04-25      NL    Utrecht   humidity   60.1\n",
      "99769   2021-04-26      NL    Utrecht   humidity   60.5\n",
      "99770   2021-04-30      NL    Utrecht   humidity   86.1\n",
      "99771   2021-05-12      NL    Utrecht   humidity   76.5\n",
      "...            ...     ...        ...        ...    ...\n",
      "488233  2019-01-17      NL  The Hague  wind-gust   14.5\n",
      "488234  2019-01-26      NL  The Hague  wind-gust   18.0\n",
      "488235  2019-02-07      NL  The Hague  wind-gust   22.4\n",
      "488236  2019-02-19      NL  The Hague  wind-gust   14.2\n",
      "488237  2019-03-23      NL  The Hague  wind-gust    7.7\n",
      "\n",
      "[188031 rows x 5 columns]\n"
     ]
    }
   ],
   "execution_count": 9
  },
  {
   "cell_type": "code",
   "id": "75d141b6-df47-4e67-875a-ba3091d3c61f",
   "metadata": {
    "ExecuteTime": {
     "end_time": "2024-12-11T17:05:04.476579Z",
     "start_time": "2024-12-11T17:05:04.320994Z"
    }
   },
   "source": [
    "# Append old (2018-2023) and new (2024) data tables, sort, remove duplicates\n",
    "DF = pd.concat([oldTable, newTable])\n",
    "dataTableEU = DF.sort_values(by=['Country', 'City', 'Date']).drop_duplicates()\n",
    "print(dataTableEU)"
   ],
   "outputs": [
    {
     "name": "stdout",
     "output_type": "stream",
     "text": [
      "               Date Country       City       Specie   Value\n",
      "482829   2018-12-31      NL  Amsterdam          no2    10.1\n",
      "482923   2018-12-31      NL  Amsterdam   wind-speed     2.7\n",
      "482957   2018-12-31      NL  Amsterdam    wind-gust     6.5\n",
      "483094   2018-12-31      NL  Amsterdam  temperature     9.4\n",
      "483166   2018-12-31      NL  Amsterdam     humidity    91.6\n",
      "...             ...     ...        ...          ...     ...\n",
      "1347330  2024-12-11      NL    Utrecht     pressure  1025.4\n",
      "1347548  2024-12-11      NL    Utrecht   wind-speed     2.0\n",
      "1347879  2024-12-11      NL    Utrecht     humidity    87.6\n",
      "1348151  2024-12-11      NL    Utrecht          so2     0.1\n",
      "1348554  2024-12-11      NL    Utrecht         pm25    45.0\n",
      "\n",
      "[216106 rows x 5 columns]\n"
     ]
    }
   ],
   "execution_count": 10
  },
  {
   "metadata": {
    "ExecuteTime": {
     "end_time": "2024-12-15T16:29:31.188398Z",
     "start_time": "2024-12-15T16:29:30.907604Z"
    }
   },
   "cell_type": "code",
   "source": "dataTableEU.to_csv('output.csv', index=False)",
   "id": "bf13ca968c052400",
   "outputs": [],
   "execution_count": 18
  },
  {
   "metadata": {
    "ExecuteTime": {
     "end_time": "2024-12-15T16:30:23.409712Z",
     "start_time": "2024-12-15T16:30:23.343601Z"
    }
   },
   "cell_type": "code",
   "source": "dataTableEU = pd.read_csv('output.csv')",
   "id": "b2d8e0842a17a94c",
   "outputs": [],
   "execution_count": 19
  },
  {
   "cell_type": "markdown",
   "id": "618a4fb7-237e-47ff-b703-cfe040a091ac",
   "metadata": {},
   "source": [
    "## 4. Check and select vars"
   ]
  },
  {
   "cell_type": "code",
   "id": "814b1156-6bcd-4fd0-9462-40564ed300ff",
   "metadata": {
    "ExecuteTime": {
     "end_time": "2024-12-15T16:44:06.739613Z",
     "start_time": "2024-12-15T16:44:06.706221Z"
    }
   },
   "source": [
    "# Weather conditions and pollutants (PM10, PM2.5, NO2, Ozone, SO2, CO)\n",
    "\n",
    "# Calculate the proportion of each Species in the data table\n",
    "all_vars = 100 * pd.value_counts(dataTableEU.Specie) / len(dataTableEU)\n",
    "\n",
    "# Drop the variables that are not needed\n",
    "drop_weat = [] #['pressure', 'wind-speed', 'wind-gust', 'wind speed', 'wind gust', 'dew', 'precipitation'] # AR TIKRAI REIKIA SITUS PASALINT???!!!!\n",
    "drop_poll = [] #['wd', 'aqi', 'uvi', 'pm1', 'neph', 'mepaqi']\n",
    "keep_vars = set(all_vars.index) - set(drop_weat + drop_poll)\n",
    "\n",
    "# Create a new data table with the info on kept variables\n",
    "new_data_table = pd.DataFrame([all_vars[list(keep_vars)].sort_values(ascending=False)])\n",
    "new_data_table.style.hide(axis=\"index\")"
   ],
   "outputs": [
    {
     "name": "stderr",
     "output_type": "stream",
     "text": [
      "/var/folders/sh/y7_11shj52j5ym8tns5r5r0h0000gn/T/ipykernel_96750/2887189367.py:4: FutureWarning:\n",
      "\n",
      "pandas.value_counts is deprecated and will be removed in a future version. Use pd.Series(obj).value_counts() instead.\n",
      "\n"
     ]
    },
    {
     "data": {
      "text/plain": [
       "<pandas.io.formats.style.Styler at 0x154472660>"
      ],
      "text/html": [
       "<style type=\"text/css\">\n",
       "</style>\n",
       "<table id=\"T_7168d\">\n",
       "  <thead>\n",
       "    <tr>\n",
       "      <th id=\"T_7168d_level0_col0\" class=\"col_heading level0 col0\" >no2</th>\n",
       "      <th id=\"T_7168d_level0_col1\" class=\"col_heading level0 col1\" >pm10</th>\n",
       "      <th id=\"T_7168d_level0_col2\" class=\"col_heading level0 col2\" >pressure</th>\n",
       "      <th id=\"T_7168d_level0_col3\" class=\"col_heading level0 col3\" >humidity</th>\n",
       "      <th id=\"T_7168d_level0_col4\" class=\"col_heading level0 col4\" >temperature</th>\n",
       "      <th id=\"T_7168d_level0_col5\" class=\"col_heading level0 col5\" >pm25</th>\n",
       "      <th id=\"T_7168d_level0_col6\" class=\"col_heading level0 col6\" >o3</th>\n",
       "      <th id=\"T_7168d_level0_col7\" class=\"col_heading level0 col7\" >wind-speed</th>\n",
       "      <th id=\"T_7168d_level0_col8\" class=\"col_heading level0 col8\" >wind-gust</th>\n",
       "      <th id=\"T_7168d_level0_col9\" class=\"col_heading level0 col9\" >so2</th>\n",
       "      <th id=\"T_7168d_level0_col10\" class=\"col_heading level0 col10\" >dew</th>\n",
       "      <th id=\"T_7168d_level0_col11\" class=\"col_heading level0 col11\" >co</th>\n",
       "      <th id=\"T_7168d_level0_col12\" class=\"col_heading level0 col12\" >wind gust</th>\n",
       "    </tr>\n",
       "  </thead>\n",
       "  <tbody>\n",
       "    <tr>\n",
       "      <td id=\"T_7168d_row0_col0\" class=\"data row0 col0\" >10.246130</td>\n",
       "      <td id=\"T_7168d_row0_col1\" class=\"data row0 col1\" >10.242414</td>\n",
       "      <td id=\"T_7168d_row0_col2\" class=\"data row0 col2\" >10.143924</td>\n",
       "      <td id=\"T_7168d_row0_col3\" class=\"data row0 col3\" >10.143460</td>\n",
       "      <td id=\"T_7168d_row0_col4\" class=\"data row0 col4\" >10.142995</td>\n",
       "      <td id=\"T_7168d_row0_col5\" class=\"data row0 col5\" >9.786669</td>\n",
       "      <td id=\"T_7168d_row0_col6\" class=\"data row0 col6\" >9.636612</td>\n",
       "      <td id=\"T_7168d_row0_col7\" class=\"data row0 col7\" >9.395035</td>\n",
       "      <td id=\"T_7168d_row0_col8\" class=\"data row0 col8\" >8.758571</td>\n",
       "      <td id=\"T_7168d_row0_col9\" class=\"data row0 col9\" >5.006225</td>\n",
       "      <td id=\"T_7168d_row0_col10\" class=\"data row0 col10\" >3.873135</td>\n",
       "      <td id=\"T_7168d_row0_col11\" class=\"data row0 col11\" >2.245275</td>\n",
       "      <td id=\"T_7168d_row0_col12\" class=\"data row0 col12\" >0.379555</td>\n",
       "    </tr>\n",
       "  </tbody>\n",
       "</table>\n"
      ]
     },
     "execution_count": 20,
     "metadata": {},
     "output_type": "execute_result"
    }
   ],
   "execution_count": 20
  },
  {
   "cell_type": "code",
   "id": "1794a47c-4979-4731-bbdc-e490c1b01d70",
   "metadata": {
    "ExecuteTime": {
     "end_time": "2024-12-15T17:09:14.528190Z",
     "start_time": "2024-12-15T17:09:14.483119Z"
    }
   },
   "source": [
    "# Descriptive statistics for daily values of selected variables\n",
    "selectedVars = ['temperature', 'humidity', 'no2', 'pm10', 'pressure', 'pm25', 'o3', 'wind-speed', 'wind-gust', 'so2', 'dew', 'co', 'wind gust']\n",
    "#selectedVars = ['no2', 'pm10','pm25', 'o3','so2','co']\n",
    "selectedIdx = dataTableEU['Specie'].isin(selectedVars)\n",
    "dataTableEU = dataTableEU[selectedIdx]\n",
    "dataTableEU.groupby('Specie')['Value'].describe()"
   ],
   "outputs": [
    {
     "data": {
      "text/plain": [
       "               count         mean        std    min     25%     50%      75%  \\\n",
       "Specie                                                                         \n",
       "co            4833.0     2.539292   0.768974    0.7     2.0     2.5     3.00   \n",
       "dew           8337.0     7.701259   5.118997  -12.0     4.0     8.0    11.80   \n",
       "humidity     21834.0    79.341930  12.313332    1.0    72.2    82.0    88.70   \n",
       "no2          22055.0     8.060521   4.348462    0.9     5.0     7.1    10.10   \n",
       "o3           20743.0    20.292429   8.462526    0.1    15.2    21.0    25.95   \n",
       "pm10         22047.0    16.262303   6.623625    3.0    12.0    15.0    19.00   \n",
       "pm25         21066.0    35.896990  18.617160    1.0    22.0    31.0    47.00   \n",
       "pressure     21835.0  1013.546586  11.636400  858.1  1007.0  1014.5  1021.00   \n",
       "so2          10776.0     0.463827   1.107822    0.1     0.2     0.3     0.50   \n",
       "temperature  21833.0    11.916420   6.006536   -7.0     7.5    11.6    16.50   \n",
       "wind gust      817.0    10.087638   5.292520    0.6     6.2     9.5    13.30   \n",
       "wind-gust    18853.0     7.753610   4.527280    0.1     4.3     7.0    10.30   \n",
       "wind-speed   20223.0     3.266780   2.212676    0.1     1.7     2.8     4.30   \n",
       "\n",
       "                max  \n",
       "Specie               \n",
       "co              7.9  \n",
       "dew            21.0  \n",
       "humidity      100.0  \n",
       "no2            36.9  \n",
       "o3             64.9  \n",
       "pm10           64.0  \n",
       "pm25          158.0  \n",
       "pressure     1053.9  \n",
       "so2           102.1  \n",
       "temperature    33.8  \n",
       "wind gust      30.0  \n",
       "wind-gust      34.4  \n",
       "wind-speed     49.0  "
      ],
      "text/html": [
       "<div>\n",
       "<style scoped>\n",
       "    .dataframe tbody tr th:only-of-type {\n",
       "        vertical-align: middle;\n",
       "    }\n",
       "\n",
       "    .dataframe tbody tr th {\n",
       "        vertical-align: top;\n",
       "    }\n",
       "\n",
       "    .dataframe thead th {\n",
       "        text-align: right;\n",
       "    }\n",
       "</style>\n",
       "<table border=\"1\" class=\"dataframe\">\n",
       "  <thead>\n",
       "    <tr style=\"text-align: right;\">\n",
       "      <th></th>\n",
       "      <th>count</th>\n",
       "      <th>mean</th>\n",
       "      <th>std</th>\n",
       "      <th>min</th>\n",
       "      <th>25%</th>\n",
       "      <th>50%</th>\n",
       "      <th>75%</th>\n",
       "      <th>max</th>\n",
       "    </tr>\n",
       "    <tr>\n",
       "      <th>Specie</th>\n",
       "      <th></th>\n",
       "      <th></th>\n",
       "      <th></th>\n",
       "      <th></th>\n",
       "      <th></th>\n",
       "      <th></th>\n",
       "      <th></th>\n",
       "      <th></th>\n",
       "    </tr>\n",
       "  </thead>\n",
       "  <tbody>\n",
       "    <tr>\n",
       "      <th>co</th>\n",
       "      <td>4833.0</td>\n",
       "      <td>2.539292</td>\n",
       "      <td>0.768974</td>\n",
       "      <td>0.7</td>\n",
       "      <td>2.0</td>\n",
       "      <td>2.5</td>\n",
       "      <td>3.00</td>\n",
       "      <td>7.9</td>\n",
       "    </tr>\n",
       "    <tr>\n",
       "      <th>dew</th>\n",
       "      <td>8337.0</td>\n",
       "      <td>7.701259</td>\n",
       "      <td>5.118997</td>\n",
       "      <td>-12.0</td>\n",
       "      <td>4.0</td>\n",
       "      <td>8.0</td>\n",
       "      <td>11.80</td>\n",
       "      <td>21.0</td>\n",
       "    </tr>\n",
       "    <tr>\n",
       "      <th>humidity</th>\n",
       "      <td>21834.0</td>\n",
       "      <td>79.341930</td>\n",
       "      <td>12.313332</td>\n",
       "      <td>1.0</td>\n",
       "      <td>72.2</td>\n",
       "      <td>82.0</td>\n",
       "      <td>88.70</td>\n",
       "      <td>100.0</td>\n",
       "    </tr>\n",
       "    <tr>\n",
       "      <th>no2</th>\n",
       "      <td>22055.0</td>\n",
       "      <td>8.060521</td>\n",
       "      <td>4.348462</td>\n",
       "      <td>0.9</td>\n",
       "      <td>5.0</td>\n",
       "      <td>7.1</td>\n",
       "      <td>10.10</td>\n",
       "      <td>36.9</td>\n",
       "    </tr>\n",
       "    <tr>\n",
       "      <th>o3</th>\n",
       "      <td>20743.0</td>\n",
       "      <td>20.292429</td>\n",
       "      <td>8.462526</td>\n",
       "      <td>0.1</td>\n",
       "      <td>15.2</td>\n",
       "      <td>21.0</td>\n",
       "      <td>25.95</td>\n",
       "      <td>64.9</td>\n",
       "    </tr>\n",
       "    <tr>\n",
       "      <th>pm10</th>\n",
       "      <td>22047.0</td>\n",
       "      <td>16.262303</td>\n",
       "      <td>6.623625</td>\n",
       "      <td>3.0</td>\n",
       "      <td>12.0</td>\n",
       "      <td>15.0</td>\n",
       "      <td>19.00</td>\n",
       "      <td>64.0</td>\n",
       "    </tr>\n",
       "    <tr>\n",
       "      <th>pm25</th>\n",
       "      <td>21066.0</td>\n",
       "      <td>35.896990</td>\n",
       "      <td>18.617160</td>\n",
       "      <td>1.0</td>\n",
       "      <td>22.0</td>\n",
       "      <td>31.0</td>\n",
       "      <td>47.00</td>\n",
       "      <td>158.0</td>\n",
       "    </tr>\n",
       "    <tr>\n",
       "      <th>pressure</th>\n",
       "      <td>21835.0</td>\n",
       "      <td>1013.546586</td>\n",
       "      <td>11.636400</td>\n",
       "      <td>858.1</td>\n",
       "      <td>1007.0</td>\n",
       "      <td>1014.5</td>\n",
       "      <td>1021.00</td>\n",
       "      <td>1053.9</td>\n",
       "    </tr>\n",
       "    <tr>\n",
       "      <th>so2</th>\n",
       "      <td>10776.0</td>\n",
       "      <td>0.463827</td>\n",
       "      <td>1.107822</td>\n",
       "      <td>0.1</td>\n",
       "      <td>0.2</td>\n",
       "      <td>0.3</td>\n",
       "      <td>0.50</td>\n",
       "      <td>102.1</td>\n",
       "    </tr>\n",
       "    <tr>\n",
       "      <th>temperature</th>\n",
       "      <td>21833.0</td>\n",
       "      <td>11.916420</td>\n",
       "      <td>6.006536</td>\n",
       "      <td>-7.0</td>\n",
       "      <td>7.5</td>\n",
       "      <td>11.6</td>\n",
       "      <td>16.50</td>\n",
       "      <td>33.8</td>\n",
       "    </tr>\n",
       "    <tr>\n",
       "      <th>wind gust</th>\n",
       "      <td>817.0</td>\n",
       "      <td>10.087638</td>\n",
       "      <td>5.292520</td>\n",
       "      <td>0.6</td>\n",
       "      <td>6.2</td>\n",
       "      <td>9.5</td>\n",
       "      <td>13.30</td>\n",
       "      <td>30.0</td>\n",
       "    </tr>\n",
       "    <tr>\n",
       "      <th>wind-gust</th>\n",
       "      <td>18853.0</td>\n",
       "      <td>7.753610</td>\n",
       "      <td>4.527280</td>\n",
       "      <td>0.1</td>\n",
       "      <td>4.3</td>\n",
       "      <td>7.0</td>\n",
       "      <td>10.30</td>\n",
       "      <td>34.4</td>\n",
       "    </tr>\n",
       "    <tr>\n",
       "      <th>wind-speed</th>\n",
       "      <td>20223.0</td>\n",
       "      <td>3.266780</td>\n",
       "      <td>2.212676</td>\n",
       "      <td>0.1</td>\n",
       "      <td>1.7</td>\n",
       "      <td>2.8</td>\n",
       "      <td>4.30</td>\n",
       "      <td>49.0</td>\n",
       "    </tr>\n",
       "  </tbody>\n",
       "</table>\n",
       "</div>"
      ]
     },
     "execution_count": 26,
     "metadata": {},
     "output_type": "execute_result"
    }
   ],
   "execution_count": 26
  },
  {
   "cell_type": "code",
   "id": "4da0f1ca-40cf-4262-b5d9-bf7f9e3526e2",
   "metadata": {
    "ExecuteTime": {
     "end_time": "2024-12-15T16:44:09.969079Z",
     "start_time": "2024-12-15T16:44:09.917397Z"
    }
   },
   "source": [
    "# 2021-10-03 Barcelona fix\n",
    "print(dataTableEU)\n",
    "dataTableEU = dataTableEU.groupby(['Date', 'Country', 'City', 'Specie'])[['Value']].mean().reset_index()\n",
    "print(dataTableEU)"
   ],
   "outputs": [
    {
     "name": "stdout",
     "output_type": "stream",
     "text": [
      "              Date Country       City       Specie   Value\n",
      "0       2018-12-31      NL  Amsterdam           co     2.5\n",
      "1       2018-12-31      NL  Amsterdam          dew     8.0\n",
      "2       2018-12-31      NL  Amsterdam     humidity    91.6\n",
      "3       2018-12-31      NL  Amsterdam          no2    10.1\n",
      "4       2018-12-31      NL  Amsterdam           o3    12.1\n",
      "...            ...     ...        ...          ...     ...\n",
      "215247  2024-12-11      NL    Utrecht     pressure  1025.4\n",
      "215248  2024-12-11      NL    Utrecht          so2     0.1\n",
      "215249  2024-12-11      NL    Utrecht  temperature     3.8\n",
      "215250  2024-12-11      NL    Utrecht    wind-gust     2.6\n",
      "215251  2024-12-11      NL    Utrecht   wind-speed     2.0\n",
      "\n",
      "[215252 rows x 5 columns]\n",
      "              Date Country       City       Specie   Value\n",
      "0       2018-12-31      NL  Amsterdam           co     2.5\n",
      "1       2018-12-31      NL  Amsterdam          dew     8.0\n",
      "2       2018-12-31      NL  Amsterdam     humidity    91.6\n",
      "3       2018-12-31      NL  Amsterdam          no2    10.1\n",
      "4       2018-12-31      NL  Amsterdam           o3    12.1\n",
      "...            ...     ...        ...          ...     ...\n",
      "215247  2024-12-11      NL    Utrecht     pressure  1025.4\n",
      "215248  2024-12-11      NL    Utrecht          so2     0.1\n",
      "215249  2024-12-11      NL    Utrecht  temperature     3.8\n",
      "215250  2024-12-11      NL    Utrecht    wind-gust     2.6\n",
      "215251  2024-12-11      NL    Utrecht   wind-speed     2.0\n",
      "\n",
      "[215252 rows x 5 columns]\n"
     ]
    }
   ],
   "execution_count": 22
  },
  {
   "cell_type": "markdown",
   "id": "d12dab2a-b940-42a7-a416-30730fb4505e",
   "metadata": {},
   "source": [
    "## 5. Pivot and calculate THI"
   ]
  },
  {
   "cell_type": "code",
   "id": "32bc5663-420e-4845-bf86-9ac00390d397",
   "metadata": {
    "ExecuteTime": {
     "end_time": "2024-12-15T16:44:11.820521Z",
     "start_time": "2024-12-15T16:44:11.760353Z"
    }
   },
   "source": [
    "# Create pivot table, calculate THI for each row, drop rows with missing THI values\n",
    "dataTableTHI = dataTableEU.pivot_table(index=['Date', 'Country', 'City'], columns='Specie', values='Value').reset_index()\n",
    "dataTableTHI[\"THI\"] = 0.8 * dataTableTHI.temperature + (dataTableTHI.humidity/100)*(dataTableTHI.temperature-14.4) + 46.4\n",
    "dataTableTHI = dataTableTHI.dropna(subset=[\"THI\"])\n",
    "print(dataTableTHI)"
   ],
   "outputs": [
    {
     "name": "stdout",
     "output_type": "stream",
     "text": [
      "Specie        Date Country        City   co  dew  humidity   no2    o3  pm10  \\\n",
      "0       2018-12-31      NL   Amsterdam  2.5  8.0      91.6  10.1  12.1  19.0   \n",
      "1       2018-12-31      NL       Breda  NaN  7.8      93.1   9.2   9.7  16.0   \n",
      "2       2018-12-31      NL   Dordrecht  NaN  NaN      97.0   7.8   9.5  15.0   \n",
      "3       2018-12-31      NL   Eindhoven  NaN  7.7      98.0   8.2   8.3  24.0   \n",
      "4       2018-12-31      NL   Groningen  NaN  8.0      91.0   6.1  16.5  23.0   \n",
      "...            ...     ...         ...  ...  ...       ...   ...   ...   ...   \n",
      "22050   2024-12-11      NL  Maastricht  NaN  2.0      89.0   6.0  11.8  15.0   \n",
      "22051   2024-12-11      NL    Nijmegen  NaN  NaN      84.0   6.0  15.7  12.0   \n",
      "22052   2024-12-11      NL   Rotterdam  NaN  1.5      86.0   5.6  17.3  18.0   \n",
      "22053   2024-12-11      NL   The Hague  NaN  NaN      89.5   4.3  18.5  18.0   \n",
      "22054   2024-12-11      NL     Utrecht  NaN  NaN      87.6   3.7  19.7  13.0   \n",
      "\n",
      "Specie  pm25  pressure  so2  temperature  wind gust  wind-gust  wind-speed  \\\n",
      "0       44.0    1031.4  0.2          9.4        NaN        6.5         2.7   \n",
      "1       46.0    1033.4  NaN          8.3        NaN        3.3         2.0   \n",
      "2       34.0    1032.9  NaN          8.8        NaN        4.1         1.8   \n",
      "3       59.0    1033.0  NaN          8.8        NaN        3.0         2.0   \n",
      "4       38.0    1031.0  NaN          8.8        NaN        8.5         3.5   \n",
      "...      ...       ...  ...          ...        ...        ...         ...   \n",
      "22050   57.0    1030.8  0.2          3.3        NaN        7.0         3.0   \n",
      "22051   38.0    1040.5  NaN          3.8        NaN        7.5         3.1   \n",
      "22052   57.0    1032.0  NaN          4.0        NaN        6.1         3.6   \n",
      "22053   57.0    1031.9  0.2          4.0        NaN       11.7         4.6   \n",
      "22054   45.0    1025.4  0.1          3.8        NaN        2.6         2.0   \n",
      "\n",
      "Specie      THI  \n",
      "0       49.3400  \n",
      "1       47.3609  \n",
      "2       48.0080  \n",
      "3       47.9520  \n",
      "4       48.3440  \n",
      "...         ...  \n",
      "22050   39.1610  \n",
      "22051   40.5360  \n",
      "22052   40.6560  \n",
      "22053   40.2920  \n",
      "22054   40.1544  \n",
      "\n",
      "[21832 rows x 17 columns]\n"
     ]
    }
   ],
   "execution_count": 23
  },
  {
   "metadata": {
    "ExecuteTime": {
     "end_time": "2024-12-15T17:09:20.033170Z",
     "start_time": "2024-12-15T17:09:19.974652Z"
    }
   },
   "cell_type": "code",
   "source": [
    "dataTableAPI = dataTableEU.pivot_table(index=['Date', 'Country', 'City'], \n",
    "                                       columns='Specie', \n",
    "                                       values='Value').reset_index()\n",
    "\n",
    "dataTableAPI['API'] = dataTableAPI[['no2', 'pm10', 'pm25', 'o3', 'so2', 'co']].max(axis=1)\n",
    "\n",
    "# Step 5: Drop rows where API is NaN\n",
    "dataTableAPI = dataTableAPI.dropna(subset=['API'])\n",
    "print(dataTableAPI)"
   ],
   "id": "3b92030e0e548e73",
   "outputs": [
    {
     "name": "stdout",
     "output_type": "stream",
     "text": [
      "Specie        Date Country        City   co  dew  humidity   no2    o3  pm10  \\\n",
      "0       2018-12-31      NL   Amsterdam  2.5  8.0      91.6  10.1  12.1  19.0   \n",
      "1       2018-12-31      NL       Breda  NaN  7.8      93.1   9.2   9.7  16.0   \n",
      "2       2018-12-31      NL   Dordrecht  NaN  NaN      97.0   7.8   9.5  15.0   \n",
      "3       2018-12-31      NL   Eindhoven  NaN  7.7      98.0   8.2   8.3  24.0   \n",
      "4       2018-12-31      NL   Groningen  NaN  8.0      91.0   6.1  16.5  23.0   \n",
      "...            ...     ...         ...  ...  ...       ...   ...   ...   ...   \n",
      "22050   2024-12-11      NL  Maastricht  NaN  2.0      89.0   6.0  11.8  15.0   \n",
      "22051   2024-12-11      NL    Nijmegen  NaN  NaN      84.0   6.0  15.7  12.0   \n",
      "22052   2024-12-11      NL   Rotterdam  NaN  1.5      86.0   5.6  17.3  18.0   \n",
      "22053   2024-12-11      NL   The Hague  NaN  NaN      89.5   4.3  18.5  18.0   \n",
      "22054   2024-12-11      NL     Utrecht  NaN  NaN      87.6   3.7  19.7  13.0   \n",
      "\n",
      "Specie  pm25  pressure  so2  temperature  wind gust  wind-gust  wind-speed  \\\n",
      "0       44.0    1031.4  0.2          9.4        NaN        6.5         2.7   \n",
      "1       46.0    1033.4  NaN          8.3        NaN        3.3         2.0   \n",
      "2       34.0    1032.9  NaN          8.8        NaN        4.1         1.8   \n",
      "3       59.0    1033.0  NaN          8.8        NaN        3.0         2.0   \n",
      "4       38.0    1031.0  NaN          8.8        NaN        8.5         3.5   \n",
      "...      ...       ...  ...          ...        ...        ...         ...   \n",
      "22050   57.0    1030.8  0.2          3.3        NaN        7.0         3.0   \n",
      "22051   38.0    1040.5  NaN          3.8        NaN        7.5         3.1   \n",
      "22052   57.0    1032.0  NaN          4.0        NaN        6.1         3.6   \n",
      "22053   57.0    1031.9  0.2          4.0        NaN       11.7         4.6   \n",
      "22054   45.0    1025.4  0.1          3.8        NaN        2.6         2.0   \n",
      "\n",
      "Specie   API  \n",
      "0       44.0  \n",
      "1       46.0  \n",
      "2       34.0  \n",
      "3       59.0  \n",
      "4       38.0  \n",
      "...      ...  \n",
      "22050   57.0  \n",
      "22051   38.0  \n",
      "22052   57.0  \n",
      "22053   57.0  \n",
      "22054   45.0  \n",
      "\n",
      "[22055 rows x 17 columns]\n"
     ]
    }
   ],
   "execution_count": 27
  },
  {
   "cell_type": "markdown",
   "id": "1b4003ce-19da-45bc-9e87-55535be74920",
   "metadata": {},
   "source": [
    "## 6. THI statistics and plots"
   ]
  },
  {
   "cell_type": "code",
   "id": "d196e4a6-c083-4468-ad72-e8c6725dbe23",
   "metadata": {
    "ExecuteTime": {
     "end_time": "2024-12-15T17:09:05.903878Z",
     "start_time": "2024-12-15T16:45:54.258657Z"
    }
   },
   "source": [
    "# Get unique cities and years\n",
    "myCities = dataTableTHI.City.unique().tolist()\n",
    "myYears = pd.to_datetime(dataTableTHI['Date']).dt.year.unique().tolist()\n",
    "\n",
    "# Set time series plot buttons\n",
    "tsDrill = [dict(count=1, label=\"1m\", step=\"month\", stepmode=\"backward\"),\n",
    "           dict(count=6, label=\"6m\", step=\"month\", stepmode=\"backward\"),\n",
    "           dict(count=1, label=\"YTD\", step=\"year\", stepmode=\"todate\"),\n",
    "           dict(count=1, label=\"1y\", step=\"year\", stepmode=\"backward\"),\n",
    "           dict(step=\"all\")]\n",
    "\n",
    "# Function for Gradio output plots\n",
    "def make_plot(myCity, myYear, myPlot):\n",
    "    if len(myYear)==0:\n",
    "      myYear = myYears\n",
    "    myTable = dataTableTHI[dataTableTHI['City']==myCity][[\"Date\", \"THI\"]]\n",
    "    myTable = myTable[pd.to_datetime(myTable['Date']).dt.year.isin(myYear)]\n",
    "    if myPlot == \"calplot\":\n",
    "      pdTimeSeries = pd.Series(myTable['THI'].values, index=pd.DatetimeIndex(myTable['Date']))\n",
    "      logging.getLogger('matplotlib.font_manager').disabled = True\n",
    "      cp = calplot.calplot(pdTimeSeries, dropzero=True, cmap='coolwarm', yearlabel_kws={'color': 'black', 'fontsize':9})\n",
    "      plot_result = cp[0]\n",
    "    elif myPlot == \"by month\":\n",
    "      myTable['Month'] = pd.to_datetime(myTable['Date']).dt.month\n",
    "      plot_result = px.box(myTable, x=\"Month\", y=\"THI\") # alt.Chart(myTable).mark_boxplot().encode(x='Month', y='THI')\n",
    "    elif myPlot == \"by weekday\":\n",
    "      myTable['DayOfWeek'] = pd.to_datetime(myTable['Date']).dt.dayofweek + 1\n",
    "      plot_result = px.box(myTable, x=\"DayOfWeek\", y=\"THI\") # alt.Chart(myTable).mark_boxplot().encode(x='DayOfWeek', y='THI')\n",
    "    else:\n",
    "      plot_result = px.line(myTable, x='Date', y='THI')\n",
    "      plot_result.update_xaxes(rangeslider_visible=True, rangeselector=dict(buttons=list(tsDrill)))\n",
    "    return plot_result\n",
    "\n",
    "# Design of Gradio dashboard\n",
    "with gr.Blocks() as demo:\n",
    "    citySelect = gr.Dropdown(myCities, label=\"City:\", value=\"Amsterdam\")\n",
    "    yearSelect = gr.CheckboxGroup(myYears, label=\"Years:\", value=myYears)\n",
    "    plotSelect = gr.Radio(label=\"Plot type:\", choices=['calplot', 'by month', 'by weekday', 'time series'], value='calplot')\n",
    "    plotVisual = gr.Plot(show_label=False, container=False)\n",
    "    citySelect.change(make_plot, inputs=[citySelect, yearSelect, plotSelect], outputs=[plotVisual])\n",
    "    yearSelect.change(make_plot, inputs=[citySelect, yearSelect, plotSelect], outputs=[plotVisual])\n",
    "    plotSelect.change(make_plot, inputs=[citySelect, yearSelect, plotSelect], outputs=[plotVisual])\n",
    "    demo.load(make_plot, inputs=[citySelect, yearSelect, plotSelect], outputs=[plotVisual])\n",
    "\n",
    "if __name__ == \"__main__\":\n",
    "    demo.launch(debug=True)"
   ],
   "outputs": [
    {
     "name": "stdout",
     "output_type": "stream",
     "text": [
      "* Running on local URL:  http://127.0.0.1:7860\n",
      "\n",
      "To create a public link, set `share=True` in `launch()`.\n"
     ]
    },
    {
     "data": {
      "text/plain": [
       "<IPython.core.display.HTML object>"
      ],
      "text/html": [
       "<div><iframe src=\"http://127.0.0.1:7860/\" width=\"100%\" height=\"500\" allow=\"autoplay; camera; microphone; clipboard-read; clipboard-write;\" frameborder=\"0\" allowfullscreen></iframe></div>"
      ]
     },
     "metadata": {},
     "output_type": "display_data"
    },
    {
     "name": "stdout",
     "output_type": "stream",
     "text": [
      "Keyboard interruption in main thread... closing server.\n"
     ]
    }
   ],
   "execution_count": 25
  },
  {
   "metadata": {
    "jupyter": {
     "is_executing": true
    },
    "ExecuteTime": {
     "start_time": "2024-12-15T17:13:48.421802Z"
    }
   },
   "cell_type": "code",
   "source": [
    "# Get unique cities and years\n",
    "myCities = dataTableAPI.City.unique().tolist()\n",
    "myYears = pd.to_datetime(dataTableAPI['Date']).dt.year.unique().tolist()\n",
    "\n",
    "# Set time series plot buttons\n",
    "tsDrill = [dict(count=1, label=\"1m\", step=\"month\", stepmode=\"backward\"),\n",
    "           dict(count=6, label=\"6m\", step=\"month\", stepmode=\"backward\"),\n",
    "           dict(count=1, label=\"YTD\", step=\"year\", stepmode=\"todate\"),\n",
    "           dict(count=1, label=\"1y\", step=\"year\", stepmode=\"backward\"),\n",
    "           dict(step=\"all\")]\n",
    "\n",
    "# Function for Gradio output plots\n",
    "def make_plot(myCity, myYear, myPlot):\n",
    "    if len(myYear)==0:\n",
    "      myYear = myYears\n",
    "    myTable = dataTableAPI[dataTableAPI['City']==myCity][[\"Date\", \"API\"]]\n",
    "    myTable = myTable[pd.to_datetime(myTable['Date']).dt.year.isin(myYear)]\n",
    "    if myPlot == \"calplot\":\n",
    "      pdTimeSeries = pd.Series(myTable['API'].values, index=pd.DatetimeIndex(myTable['Date']))\n",
    "      logging.getLogger('matplotlib.font_manager').disabled = True\n",
    "      cp = calplot.calplot(pdTimeSeries, dropzero=True, cmap='coolwarm', yearlabel_kws={'color': 'black', 'fontsize':9})\n",
    "      plot_result = cp[0]\n",
    "    elif myPlot == \"by month\":\n",
    "      myTable['Month'] = pd.to_datetime(myTable['Date']).dt.month\n",
    "      plot_result = px.box(myTable, x=\"Month\", y=\"API\") # alt.Chart(myTable).mark_boxplot().encode(x='Month', y='THI')\n",
    "    elif myPlot == \"by weekday\":\n",
    "      myTable['DayOfWeek'] = pd.to_datetime(myTable['Date']).dt.dayofweek + 1\n",
    "      plot_result = px.box(myTable, x=\"DayOfWeek\", y=\"API\") # alt.Chart(myTable).mark_boxplot().encode(x='DayOfWeek', y='THI')\n",
    "    else:\n",
    "      plot_result = px.line(myTable, x='Date', y='API')\n",
    "      plot_result.update_xaxes(rangeslider_visible=True, rangeselector=dict(buttons=list(tsDrill)))\n",
    "    return plot_result\n",
    "\n",
    "# Design of Gradio dashboard\n",
    "with gr.Blocks() as demo:\n",
    "    citySelect = gr.Dropdown(myCities, label=\"City:\", value=\"Amsterdam\")\n",
    "    yearSelect = gr.CheckboxGroup(myYears, label=\"Years:\", value=myYears)\n",
    "    plotSelect = gr.Radio(label=\"Plot type:\", choices=['calplot', 'by month', 'by weekday', 'time series'], value='calplot')\n",
    "    plotVisual = gr.Plot(show_label=False, container=False)\n",
    "    citySelect.change(make_plot, inputs=[citySelect, yearSelect, plotSelect], outputs=[plotVisual])\n",
    "    yearSelect.change(make_plot, inputs=[citySelect, yearSelect, plotSelect], outputs=[plotVisual])\n",
    "    plotSelect.change(make_plot, inputs=[citySelect, yearSelect, plotSelect], outputs=[plotVisual])\n",
    "    demo.load(make_plot, inputs=[citySelect, yearSelect, plotSelect], outputs=[plotVisual])\n",
    "\n",
    "if __name__ == \"__main__\":\n",
    "    demo.launch(debug=True)"
   ],
   "id": "235ca699fdb1d44e",
   "outputs": [
    {
     "name": "stdout",
     "output_type": "stream",
     "text": [
      "* Running on local URL:  http://127.0.0.1:7860\n",
      "\n",
      "To create a public link, set `share=True` in `launch()`.\n"
     ]
    },
    {
     "data": {
      "text/plain": [
       "<IPython.core.display.HTML object>"
      ],
      "text/html": [
       "<div><iframe src=\"http://127.0.0.1:7860/\" width=\"100%\" height=\"500\" allow=\"autoplay; camera; microphone; clipboard-read; clipboard-write;\" frameborder=\"0\" allowfullscreen></iframe></div>"
      ]
     },
     "metadata": {},
     "output_type": "display_data"
    }
   ],
   "execution_count": null
  },
  {
   "cell_type": "code",
   "execution_count": 21,
   "id": "4d40f227-ff1d-4d37-8b73-d040acec9ac7",
   "metadata": {},
   "outputs": [
    {
     "data": {
      "text/html": [
       "<div>\n",
       "<style scoped>\n",
       "    .dataframe tbody tr th:only-of-type {\n",
       "        vertical-align: middle;\n",
       "    }\n",
       "\n",
       "    .dataframe tbody tr th {\n",
       "        vertical-align: top;\n",
       "    }\n",
       "\n",
       "    .dataframe thead tr th {\n",
       "        text-align: left;\n",
       "    }\n",
       "\n",
       "    .dataframe thead tr:last-of-type th {\n",
       "        text-align: right;\n",
       "    }\n",
       "</style>\n",
       "<table border=\"1\" class=\"dataframe\">\n",
       "  <thead>\n",
       "    <tr>\n",
       "      <th>Specie</th>\n",
       "      <th colspan=\"8\" halign=\"left\">THI</th>\n",
       "    </tr>\n",
       "    <tr>\n",
       "      <th></th>\n",
       "      <th>count</th>\n",
       "      <th>mean</th>\n",
       "      <th>std</th>\n",
       "      <th>min</th>\n",
       "      <th>25%</th>\n",
       "      <th>50%</th>\n",
       "      <th>75%</th>\n",
       "      <th>max</th>\n",
       "    </tr>\n",
       "    <tr>\n",
       "      <th>Date</th>\n",
       "      <th></th>\n",
       "      <th></th>\n",
       "      <th></th>\n",
       "      <th></th>\n",
       "      <th></th>\n",
       "      <th></th>\n",
       "      <th></th>\n",
       "      <th></th>\n",
       "    </tr>\n",
       "  </thead>\n",
       "  <tbody>\n",
       "    <tr>\n",
       "      <th>2019</th>\n",
       "      <td>362.0</td>\n",
       "      <td>53.170059</td>\n",
       "      <td>9.405376</td>\n",
       "      <td>32.0160</td>\n",
       "      <td>46.377725</td>\n",
       "      <td>51.99200</td>\n",
       "      <td>60.255875</td>\n",
       "      <td>80.9430</td>\n",
       "    </tr>\n",
       "    <tr>\n",
       "      <th>2020</th>\n",
       "      <td>351.0</td>\n",
       "      <td>54.796923</td>\n",
       "      <td>8.158912</td>\n",
       "      <td>36.3740</td>\n",
       "      <td>48.435050</td>\n",
       "      <td>53.80250</td>\n",
       "      <td>60.892150</td>\n",
       "      <td>75.8540</td>\n",
       "    </tr>\n",
       "    <tr>\n",
       "      <th>2021</th>\n",
       "      <td>365.0</td>\n",
       "      <td>52.489340</td>\n",
       "      <td>9.406332</td>\n",
       "      <td>28.2200</td>\n",
       "      <td>45.510000</td>\n",
       "      <td>52.28360</td>\n",
       "      <td>61.418000</td>\n",
       "      <td>72.0482</td>\n",
       "    </tr>\n",
       "    <tr>\n",
       "      <th>2022</th>\n",
       "      <td>281.0</td>\n",
       "      <td>56.842829</td>\n",
       "      <td>9.243972</td>\n",
       "      <td>29.0210</td>\n",
       "      <td>51.249300</td>\n",
       "      <td>57.92000</td>\n",
       "      <td>63.413600</td>\n",
       "      <td>75.5460</td>\n",
       "    </tr>\n",
       "    <tr>\n",
       "      <th>2023</th>\n",
       "      <td>281.0</td>\n",
       "      <td>51.191212</td>\n",
       "      <td>8.346210</td>\n",
       "      <td>33.5840</td>\n",
       "      <td>45.867200</td>\n",
       "      <td>50.40500</td>\n",
       "      <td>55.773800</td>\n",
       "      <td>74.3756</td>\n",
       "    </tr>\n",
       "    <tr>\n",
       "      <th>2024</th>\n",
       "      <td>346.0</td>\n",
       "      <td>54.753049</td>\n",
       "      <td>8.965877</td>\n",
       "      <td>33.7797</td>\n",
       "      <td>47.989700</td>\n",
       "      <td>54.23165</td>\n",
       "      <td>61.543250</td>\n",
       "      <td>74.6144</td>\n",
       "    </tr>\n",
       "  </tbody>\n",
       "</table>\n",
       "</div>"
      ],
      "text/plain": [
       "Specie    THI                                                                \\\n",
       "        count       mean       std      min        25%       50%        75%   \n",
       "Date                                                                          \n",
       "2019    362.0  53.170059  9.405376  32.0160  46.377725  51.99200  60.255875   \n",
       "2020    351.0  54.796923  8.158912  36.3740  48.435050  53.80250  60.892150   \n",
       "2021    365.0  52.489340  9.406332  28.2200  45.510000  52.28360  61.418000   \n",
       "2022    281.0  56.842829  9.243972  29.0210  51.249300  57.92000  63.413600   \n",
       "2023    281.0  51.191212  8.346210  33.5840  45.867200  50.40500  55.773800   \n",
       "2024    346.0  54.753049  8.965877  33.7797  47.989700  54.23165  61.543250   \n",
       "\n",
       "Specie           \n",
       "            max  \n",
       "Date             \n",
       "2019    80.9430  \n",
       "2020    75.8540  \n",
       "2021    72.0482  \n",
       "2022    75.5460  \n",
       "2023    74.3756  \n",
       "2024    74.6144  "
      ]
     },
     "execution_count": 21,
     "metadata": {},
     "output_type": "execute_result"
    }
   ],
   "source": [
    "# Descriptive statistics for yearly THI\n",
    "myCity = 'Amsterdam'\n",
    "myTable = dataTableTHI[(dataTableTHI['City']==myCity) & (dataTableTHI['Date']>='2019-01-01')][[\"Date\", \"THI\"]]\n",
    "myTable.groupby(pd.to_datetime(myTable['Date']).dt.year).describe()"
   ]
  },
  {
   "cell_type": "code",
   "execution_count": 22,
   "id": "c6e000d9-0316-439d-94fc-21f4db73e2ac",
   "metadata": {},
   "outputs": [
    {
     "data": {
      "image/png": "[encoded data removed]",
      "text/plain": [
       "<Figure size 1250x1020 with 7 Axes>"
      ]
     },
     "metadata": {},
     "output_type": "display_data"
    }
   ],
   "source": [
    "# Plot THI time series calendar heatmap\n",
    "pdTimeSeries = pd.Series(myTable['THI'].values, index=pd.DatetimeIndex(myTable['Date']))\n",
    "logging.getLogger('matplotlib.font_manager').disabled = True\n",
    "cp = calplot.calplot(pdTimeSeries, dropzero=True, cmap='coolwarm', suptitle='THI @ ' + myCity)"
   ]
  },
  {
   "cell_type": "code",
   "execution_count": 23,
   "id": "afb118aa-31df-40eb-aacc-6c83425a201d",
   "metadata": {},
   "outputs": [
    {
     "data": {
      "image/png": "[encoded data removed]",
      "text/plain": [
       "<Figure size 640x480 with 1 Axes>"
      ]
     },
     "metadata": {},
     "output_type": "display_data"
    }
   ],
   "source": [
    "# Plot THI time series dynamics\n",
    "ts = pdTimeSeries.plot(title='THI @ ' + myCity, ylabel=\"THI\", xlabel=\"Time\", lw=1, grid=True)"
   ]
  },
  {
   "cell_type": "code",
   "execution_count": null,
   "id": "d6eadeb3-4d88-48d7-afae-523f111b809a",
   "metadata": {},
   "outputs": [],
   "source": []
  }
 ],
 "metadata": {
  "kernelspec": {
   "display_name": "Python 3 (ipykernel)",
   "language": "python",
   "name": "python3"
  },
  "language_info": {
   "codemirror_mode": {
    "name": "ipython",
    "version": 3
   },
   "file_extension": ".py",
   "mimetype": "text/x-python",
   "name": "python",
   "nbconvert_exporter": "python",
   "pygments_lexer": "ipython3",
   "version": "3.11.6"
  }
 },
 "nbformat": 4,
 "nbformat_minor": 5
}
